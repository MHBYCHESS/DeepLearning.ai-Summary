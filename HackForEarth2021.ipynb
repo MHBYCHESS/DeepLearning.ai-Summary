{
  "nbformat": 4,
  "nbformat_minor": 0,
  "metadata": {
    "kernelspec": {
      "display_name": "Python 3",
      "language": "python",
      "name": "python3"
    },
    "language_info": {
      "codemirror_mode": {
        "name": "ipython",
        "version": 3
      },
      "file_extension": ".py",
      "mimetype": "text/x-python",
      "name": "python",
      "nbconvert_exporter": "python",
      "pygments_lexer": "ipython3",
      "version": "3.6.9"
    },
    "colab": {
      "name": "starter_notbook.ipynb",
      "provenance": [],
      "include_colab_link": true
    }
  },
  "cells": [
    {
      "cell_type": "markdown",
      "metadata": {
        "id": "view-in-github",
        "colab_type": "text"
      },
      "source": [
        "<a href=\"https://colab.research.google.com/github/MohamedElhedi-BenYedder/DeepLearning.ai-Summary/blob/master/HackForEarth2021.ipynb\" target=\"_parent\"><img src=\"https://colab.research.google.com/assets/colab-badge.svg\" alt=\"Open In Colab\"/></a>"
      ]
    },
    {
      "cell_type": "code",
      "metadata": {
        "id": "ujxs9qbbzIK5"
      },
      "source": [
        "import pandas as  pd \n",
        "import numpy as np \n",
        "import os \n",
        "from sklearn.model_selection import train_test_split\n",
        "from joblib import Parallel, delayed\n",
        "import lightgbm as lgbm"
      ],
      "execution_count": 1,
      "outputs": []
    },
    {
      "cell_type": "code",
      "metadata": {
        "id": "brye4iTrzIK_"
      },
      "source": [
        "# ! pip install lightgbm "
      ],
      "execution_count": 2,
      "outputs": []
    },
    {
      "cell_type": "markdown",
      "metadata": {
        "id": "1bNTqKdazILA"
      },
      "source": [
        "### Data processing"
      ]
    },
    {
      "cell_type": "code",
      "metadata": {
        "colab": {
          "base_uri": "https://localhost:8080/"
        },
        "id": "nsGOVf-OzILA",
        "outputId": "65d91b6d-3131-495d-e6e9-338efe4e948f"
      },
      "source": [
        "from google.colab import drive\n",
        "drive.mount(\"/content/drive\")\n",
        "path = \"/content/drive/MyDrive/Zindi_competition/Hack for Earth /Data\"\n",
        "train = pd.read_csv(path + \"/train.csv\")\n",
        "test = pd.read_csv(path + \"/test.csv\")\n",
        "submission = pd.read_csv(path+\"/sample_sub.csv\")"
      ],
      "execution_count": 3,
      "outputs": [
        {
          "output_type": "stream",
          "text": [
            "Mounted at /content/drive\n"
          ],
          "name": "stdout"
        }
      ]
    },
    {
      "cell_type": "code",
      "metadata": {
        "colab": {
          "base_uri": "https://localhost:8080/",
          "height": 235
        },
        "id": "wnZc0BK2zILB",
        "outputId": "06f838ed-4667-4299-f1df-bcf198aaa69c"
      },
      "source": [
        "train.head()"
      ],
      "execution_count": 4,
      "outputs": [
        {
          "output_type": "execute_result",
          "data": {
            "text/html": [
              "<div>\n",
              "<style scoped>\n",
              "    .dataframe tbody tr th:only-of-type {\n",
              "        vertical-align: middle;\n",
              "    }\n",
              "\n",
              "    .dataframe tbody tr th {\n",
              "        vertical-align: top;\n",
              "    }\n",
              "\n",
              "    .dataframe thead th {\n",
              "        text-align: right;\n",
              "    }\n",
              "</style>\n",
              "<table border=\"1\" class=\"dataframe\">\n",
              "  <thead>\n",
              "    <tr style=\"text-align: right;\">\n",
              "      <th></th>\n",
              "      <th>ID</th>\n",
              "      <th>AREA_ID</th>\n",
              "      <th>ADM0_NAME</th>\n",
              "      <th>X</th>\n",
              "      <th>Y</th>\n",
              "      <th>year</th>\n",
              "      <th>month</th>\n",
              "      <th>LandcoverCategory_0</th>\n",
              "      <th>LandcoverCategory_1</th>\n",
              "      <th>LandcoverCategory_2</th>\n",
              "      <th>LandcoverCategory_3</th>\n",
              "      <th>LandcoverCategory_4</th>\n",
              "      <th>LandcoverCategory_5</th>\n",
              "      <th>LandcoverCategory_6</th>\n",
              "      <th>LandcoverCategory_7</th>\n",
              "      <th>LandcoverCategory_8</th>\n",
              "      <th>Elevation</th>\n",
              "      <th>unwpp-adjusted_population_density</th>\n",
              "      <th>precipitation</th>\n",
              "      <th>climate_aet</th>\n",
              "      <th>climate_def</th>\n",
              "      <th>climate_pdsi</th>\n",
              "      <th>climate_pet</th>\n",
              "      <th>climate_pr</th>\n",
              "      <th>climate_ro</th>\n",
              "      <th>climate_soil</th>\n",
              "      <th>climate_srad</th>\n",
              "      <th>climate_swe</th>\n",
              "      <th>climate_tmmn</th>\n",
              "      <th>climate_tmmx</th>\n",
              "      <th>climate_vap</th>\n",
              "      <th>climate_vpd</th>\n",
              "      <th>climate_vs</th>\n",
              "      <th>target</th>\n",
              "    </tr>\n",
              "  </thead>\n",
              "  <tbody>\n",
              "    <tr>\n",
              "      <th>0</th>\n",
              "      <td>train_0</td>\n",
              "      <td>ID_vWROJUDt</td>\n",
              "      <td>Algeria</td>\n",
              "      <td>6.995371</td>\n",
              "      <td>33.279981</td>\n",
              "      <td>2005</td>\n",
              "      <td>12</td>\n",
              "      <td>0.013001</td>\n",
              "      <td>0.002665</td>\n",
              "      <td>0.000000</td>\n",
              "      <td>0.0</td>\n",
              "      <td>0.000000</td>\n",
              "      <td>0.000018</td>\n",
              "      <td>0.002143</td>\n",
              "      <td>0.980485</td>\n",
              "      <td>0.001688</td>\n",
              "      <td>86.528060</td>\n",
              "      <td>17.873313</td>\n",
              "      <td>0.019999</td>\n",
              "      <td>74.535807</td>\n",
              "      <td>518.330408</td>\n",
              "      <td>-100.016726</td>\n",
              "      <td>592.873187</td>\n",
              "      <td>7.841627</td>\n",
              "      <td>0.184343</td>\n",
              "      <td>0.012119</td>\n",
              "      <td>1207.999761</td>\n",
              "      <td>0.0</td>\n",
              "      <td>49.052457</td>\n",
              "      <td>168.590025</td>\n",
              "      <td>783.912491</td>\n",
              "      <td>61.576092</td>\n",
              "      <td>282.824602</td>\n",
              "      <td>0.000000</td>\n",
              "    </tr>\n",
              "    <tr>\n",
              "      <th>1</th>\n",
              "      <td>train_1</td>\n",
              "      <td>ID_ZKFzZgqz</td>\n",
              "      <td>Gabon</td>\n",
              "      <td>13.724646</td>\n",
              "      <td>-1.330817</td>\n",
              "      <td>2005</td>\n",
              "      <td>8</td>\n",
              "      <td>0.000000</td>\n",
              "      <td>0.000000</td>\n",
              "      <td>0.768617</td>\n",
              "      <td>0.0</td>\n",
              "      <td>0.000000</td>\n",
              "      <td>0.000000</td>\n",
              "      <td>0.229401</td>\n",
              "      <td>0.000000</td>\n",
              "      <td>0.001982</td>\n",
              "      <td>492.545597</td>\n",
              "      <td>11.604138</td>\n",
              "      <td>0.005559</td>\n",
              "      <td>372.343805</td>\n",
              "      <td>405.337104</td>\n",
              "      <td>-358.594202</td>\n",
              "      <td>777.665739</td>\n",
              "      <td>9.795414</td>\n",
              "      <td>0.579478</td>\n",
              "      <td>844.948387</td>\n",
              "      <td>1358.890713</td>\n",
              "      <td>0.0</td>\n",
              "      <td>186.291974</td>\n",
              "      <td>271.372161</td>\n",
              "      <td>2379.852515</td>\n",
              "      <td>50.563101</td>\n",
              "      <td>100.540774</td>\n",
              "      <td>0.319102</td>\n",
              "    </tr>\n",
              "    <tr>\n",
              "      <th>2</th>\n",
              "      <td>train_2</td>\n",
              "      <td>ID_rAVUdzLu</td>\n",
              "      <td>Burundi</td>\n",
              "      <td>30.322476</td>\n",
              "      <td>-3.457890</td>\n",
              "      <td>2009</td>\n",
              "      <td>5</td>\n",
              "      <td>0.000000</td>\n",
              "      <td>0.000000</td>\n",
              "      <td>0.288423</td>\n",
              "      <td>0.0</td>\n",
              "      <td>0.150904</td>\n",
              "      <td>0.160637</td>\n",
              "      <td>0.398263</td>\n",
              "      <td>0.000000</td>\n",
              "      <td>0.001773</td>\n",
              "      <td>1467.240107</td>\n",
              "      <td>255.956899</td>\n",
              "      <td>0.076401</td>\n",
              "      <td>752.755202</td>\n",
              "      <td>164.797902</td>\n",
              "      <td>-197.958668</td>\n",
              "      <td>917.504966</td>\n",
              "      <td>49.477491</td>\n",
              "      <td>2.445930</td>\n",
              "      <td>1565.676953</td>\n",
              "      <td>1742.273630</td>\n",
              "      <td>0.0</td>\n",
              "      <td>147.633037</td>\n",
              "      <td>255.465414</td>\n",
              "      <td>2005.322129</td>\n",
              "      <td>48.402229</td>\n",
              "      <td>164.096026</td>\n",
              "      <td>0.000000</td>\n",
              "    </tr>\n",
              "    <tr>\n",
              "      <th>3</th>\n",
              "      <td>train_3</td>\n",
              "      <td>ID_hQKDcONr</td>\n",
              "      <td>Madagascar</td>\n",
              "      <td>47.864881</td>\n",
              "      <td>-21.346429</td>\n",
              "      <td>2004</td>\n",
              "      <td>9</td>\n",
              "      <td>0.004991</td>\n",
              "      <td>0.000192</td>\n",
              "      <td>0.994396</td>\n",
              "      <td>0.0</td>\n",
              "      <td>0.000000</td>\n",
              "      <td>0.000000</td>\n",
              "      <td>0.000421</td>\n",
              "      <td>0.000000</td>\n",
              "      <td>0.000000</td>\n",
              "      <td>309.266816</td>\n",
              "      <td>79.632118</td>\n",
              "      <td>0.103913</td>\n",
              "      <td>575.156098</td>\n",
              "      <td>437.419633</td>\n",
              "      <td>-311.169996</td>\n",
              "      <td>1012.596054</td>\n",
              "      <td>52.091218</td>\n",
              "      <td>2.547314</td>\n",
              "      <td>189.640383</td>\n",
              "      <td>2054.112779</td>\n",
              "      <td>0.0</td>\n",
              "      <td>161.519643</td>\n",
              "      <td>259.380838</td>\n",
              "      <td>1989.783379</td>\n",
              "      <td>62.074341</td>\n",
              "      <td>196.941930</td>\n",
              "      <td>0.000000</td>\n",
              "    </tr>\n",
              "    <tr>\n",
              "      <th>4</th>\n",
              "      <td>train_4</td>\n",
              "      <td>ID_HboSmUHg</td>\n",
              "      <td>Seychelles</td>\n",
              "      <td>55.504306</td>\n",
              "      <td>-4.602603</td>\n",
              "      <td>2017</td>\n",
              "      <td>11</td>\n",
              "      <td>0.093750</td>\n",
              "      <td>0.000000</td>\n",
              "      <td>0.906250</td>\n",
              "      <td>0.0</td>\n",
              "      <td>0.000000</td>\n",
              "      <td>0.000000</td>\n",
              "      <td>0.000000</td>\n",
              "      <td>0.000000</td>\n",
              "      <td>0.000000</td>\n",
              "      <td>8.599265</td>\n",
              "      <td>607.521140</td>\n",
              "      <td>0.127607</td>\n",
              "      <td>1472.996262</td>\n",
              "      <td>0.000000</td>\n",
              "      <td>-79.656075</td>\n",
              "      <td>1472.996262</td>\n",
              "      <td>189.379439</td>\n",
              "      <td>9.379439</td>\n",
              "      <td>458.007477</td>\n",
              "      <td>2414.925234</td>\n",
              "      <td>0.0</td>\n",
              "      <td>249.620561</td>\n",
              "      <td>304.000000</td>\n",
              "      <td>2898.446729</td>\n",
              "      <td>87.000000</td>\n",
              "      <td>434.960748</td>\n",
              "      <td>0.000000</td>\n",
              "    </tr>\n",
              "  </tbody>\n",
              "</table>\n",
              "</div>"
            ],
            "text/plain": [
              "        ID      AREA_ID   ADM0_NAME  ...  climate_vpd  climate_vs    target\n",
              "0  train_0  ID_vWROJUDt     Algeria  ...    61.576092  282.824602  0.000000\n",
              "1  train_1  ID_ZKFzZgqz       Gabon  ...    50.563101  100.540774  0.319102\n",
              "2  train_2  ID_rAVUdzLu     Burundi  ...    48.402229  164.096026  0.000000\n",
              "3  train_3  ID_hQKDcONr  Madagascar  ...    62.074341  196.941930  0.000000\n",
              "4  train_4  ID_HboSmUHg  Seychelles  ...    87.000000  434.960748  0.000000\n",
              "\n",
              "[5 rows x 34 columns]"
            ]
          },
          "metadata": {
            "tags": []
          },
          "execution_count": 4
        }
      ]
    },
    {
      "cell_type": "code",
      "metadata": {
        "colab": {
          "base_uri": "https://localhost:8080/",
          "height": 270
        },
        "id": "1fmwSq18zILC",
        "outputId": "84797cc5-86de-4e93-dc8f-260175b1f8a3"
      },
      "source": [
        "test.head()"
      ],
      "execution_count": 5,
      "outputs": [
        {
          "output_type": "execute_result",
          "data": {
            "text/html": [
              "<div>\n",
              "<style scoped>\n",
              "    .dataframe tbody tr th:only-of-type {\n",
              "        vertical-align: middle;\n",
              "    }\n",
              "\n",
              "    .dataframe tbody tr th {\n",
              "        vertical-align: top;\n",
              "    }\n",
              "\n",
              "    .dataframe thead th {\n",
              "        text-align: right;\n",
              "    }\n",
              "</style>\n",
              "<table border=\"1\" class=\"dataframe\">\n",
              "  <thead>\n",
              "    <tr style=\"text-align: right;\">\n",
              "      <th></th>\n",
              "      <th>ID</th>\n",
              "      <th>AREA_ID</th>\n",
              "      <th>ADM0_NAME</th>\n",
              "      <th>X</th>\n",
              "      <th>Y</th>\n",
              "      <th>year</th>\n",
              "      <th>month</th>\n",
              "      <th>LandcoverCategory_0</th>\n",
              "      <th>LandcoverCategory_1</th>\n",
              "      <th>LandcoverCategory_2</th>\n",
              "      <th>LandcoverCategory_3</th>\n",
              "      <th>LandcoverCategory_4</th>\n",
              "      <th>LandcoverCategory_5</th>\n",
              "      <th>LandcoverCategory_6</th>\n",
              "      <th>LandcoverCategory_7</th>\n",
              "      <th>LandcoverCategory_8</th>\n",
              "      <th>Elevation</th>\n",
              "      <th>unwpp-adjusted_population_density</th>\n",
              "      <th>precipitation</th>\n",
              "      <th>climate_aet</th>\n",
              "      <th>climate_def</th>\n",
              "      <th>climate_pdsi</th>\n",
              "      <th>climate_pet</th>\n",
              "      <th>climate_pr</th>\n",
              "      <th>climate_ro</th>\n",
              "      <th>climate_soil</th>\n",
              "      <th>climate_srad</th>\n",
              "      <th>climate_swe</th>\n",
              "      <th>climate_tmmn</th>\n",
              "      <th>climate_tmmx</th>\n",
              "      <th>climate_vap</th>\n",
              "      <th>climate_vpd</th>\n",
              "      <th>climate_vs</th>\n",
              "    </tr>\n",
              "  </thead>\n",
              "  <tbody>\n",
              "    <tr>\n",
              "      <th>0</th>\n",
              "      <td>test_0</td>\n",
              "      <td>ID_BrbQaEWf</td>\n",
              "      <td>Tunisia</td>\n",
              "      <td>8.875264</td>\n",
              "      <td>33.284730</td>\n",
              "      <td>2018</td>\n",
              "      <td>3</td>\n",
              "      <td>0.000000</td>\n",
              "      <td>0.007080</td>\n",
              "      <td>0.000178</td>\n",
              "      <td>0.0</td>\n",
              "      <td>0.000000</td>\n",
              "      <td>0.000267</td>\n",
              "      <td>0.004488</td>\n",
              "      <td>0.986165</td>\n",
              "      <td>0.001822</td>\n",
              "      <td>109.912655</td>\n",
              "      <td>7.284470</td>\n",
              "      <td>0.012783</td>\n",
              "      <td>83.017224</td>\n",
              "      <td>1554.791686</td>\n",
              "      <td>-137.333089</td>\n",
              "      <td>1637.808910</td>\n",
              "      <td>8.782397</td>\n",
              "      <td>0.425520</td>\n",
              "      <td>0.149348</td>\n",
              "      <td>2213.028501</td>\n",
              "      <td>0.0</td>\n",
              "      <td>116.805886</td>\n",
              "      <td>248.281718</td>\n",
              "      <td>943.293270</td>\n",
              "      <td>172.133577</td>\n",
              "      <td>546.816831</td>\n",
              "    </tr>\n",
              "    <tr>\n",
              "      <th>1</th>\n",
              "      <td>test_1</td>\n",
              "      <td>ID_YDAHwOPt</td>\n",
              "      <td>Democratic Republic of the Congo</td>\n",
              "      <td>23.937944</td>\n",
              "      <td>-4.497663</td>\n",
              "      <td>2018</td>\n",
              "      <td>4</td>\n",
              "      <td>0.000000</td>\n",
              "      <td>0.000000</td>\n",
              "      <td>0.830220</td>\n",
              "      <td>0.0</td>\n",
              "      <td>0.074535</td>\n",
              "      <td>0.000000</td>\n",
              "      <td>0.093957</td>\n",
              "      <td>0.000000</td>\n",
              "      <td>0.001288</td>\n",
              "      <td>598.117146</td>\n",
              "      <td>93.624173</td>\n",
              "      <td>0.258343</td>\n",
              "      <td>1034.022964</td>\n",
              "      <td>74.485313</td>\n",
              "      <td>-994.256714</td>\n",
              "      <td>1108.508277</td>\n",
              "      <td>102.569489</td>\n",
              "      <td>6.308775</td>\n",
              "      <td>655.843532</td>\n",
              "      <td>1966.960063</td>\n",
              "      <td>0.0</td>\n",
              "      <td>194.801714</td>\n",
              "      <td>313.070973</td>\n",
              "      <td>2497.724323</td>\n",
              "      <td>101.949967</td>\n",
              "      <td>126.338276</td>\n",
              "    </tr>\n",
              "    <tr>\n",
              "      <th>2</th>\n",
              "      <td>test_2</td>\n",
              "      <td>ID_FmLCJMqr</td>\n",
              "      <td>Uganda</td>\n",
              "      <td>32.424715</td>\n",
              "      <td>1.354910</td>\n",
              "      <td>2018</td>\n",
              "      <td>5</td>\n",
              "      <td>0.063813</td>\n",
              "      <td>0.000000</td>\n",
              "      <td>0.758484</td>\n",
              "      <td>0.0</td>\n",
              "      <td>0.074643</td>\n",
              "      <td>0.002268</td>\n",
              "      <td>0.100793</td>\n",
              "      <td>0.000000</td>\n",
              "      <td>0.000000</td>\n",
              "      <td>1064.121421</td>\n",
              "      <td>60.193603</td>\n",
              "      <td>0.124109</td>\n",
              "      <td>1331.511153</td>\n",
              "      <td>0.992008</td>\n",
              "      <td>-128.265808</td>\n",
              "      <td>1332.503161</td>\n",
              "      <td>185.013491</td>\n",
              "      <td>9.317950</td>\n",
              "      <td>612.001288</td>\n",
              "      <td>2306.107185</td>\n",
              "      <td>0.0</td>\n",
              "      <td>186.374232</td>\n",
              "      <td>296.547769</td>\n",
              "      <td>2379.066834</td>\n",
              "      <td>116.533704</td>\n",
              "      <td>298.278159</td>\n",
              "    </tr>\n",
              "    <tr>\n",
              "      <th>3</th>\n",
              "      <td>test_3</td>\n",
              "      <td>ID_QFZjEhdP</td>\n",
              "      <td>Morocco</td>\n",
              "      <td>-7.577399</td>\n",
              "      <td>33.520405</td>\n",
              "      <td>2018</td>\n",
              "      <td>2</td>\n",
              "      <td>0.015878</td>\n",
              "      <td>0.001606</td>\n",
              "      <td>0.001138</td>\n",
              "      <td>0.0</td>\n",
              "      <td>0.000000</td>\n",
              "      <td>0.000000</td>\n",
              "      <td>0.727875</td>\n",
              "      <td>0.000071</td>\n",
              "      <td>0.253431</td>\n",
              "      <td>108.848050</td>\n",
              "      <td>4895.893088</td>\n",
              "      <td>0.092165</td>\n",
              "      <td>562.702290</td>\n",
              "      <td>0.000000</td>\n",
              "      <td>-213.563591</td>\n",
              "      <td>562.702290</td>\n",
              "      <td>69.499029</td>\n",
              "      <td>3.575112</td>\n",
              "      <td>682.141314</td>\n",
              "      <td>1585.012244</td>\n",
              "      <td>0.0</td>\n",
              "      <td>48.975124</td>\n",
              "      <td>181.255708</td>\n",
              "      <td>1114.702460</td>\n",
              "      <td>42.886645</td>\n",
              "      <td>313.903780</td>\n",
              "    </tr>\n",
              "    <tr>\n",
              "      <th>4</th>\n",
              "      <td>test_4</td>\n",
              "      <td>ID_NqclFjyy</td>\n",
              "      <td>Seychelles</td>\n",
              "      <td>55.446673</td>\n",
              "      <td>-4.614546</td>\n",
              "      <td>2018</td>\n",
              "      <td>7</td>\n",
              "      <td>0.000000</td>\n",
              "      <td>0.000000</td>\n",
              "      <td>0.780731</td>\n",
              "      <td>0.0</td>\n",
              "      <td>0.000000</td>\n",
              "      <td>0.000000</td>\n",
              "      <td>0.219269</td>\n",
              "      <td>0.000000</td>\n",
              "      <td>0.000000</td>\n",
              "      <td>214.275748</td>\n",
              "      <td>2126.205852</td>\n",
              "      <td>0.032218</td>\n",
              "      <td>589.000000</td>\n",
              "      <td>852.000000</td>\n",
              "      <td>-290.000000</td>\n",
              "      <td>1441.000000</td>\n",
              "      <td>60.000000</td>\n",
              "      <td>3.000000</td>\n",
              "      <td>78.000000</td>\n",
              "      <td>2276.000000</td>\n",
              "      <td>0.0</td>\n",
              "      <td>241.000000</td>\n",
              "      <td>278.000000</td>\n",
              "      <td>2571.000000</td>\n",
              "      <td>76.000000</td>\n",
              "      <td>630.000000</td>\n",
              "    </tr>\n",
              "  </tbody>\n",
              "</table>\n",
              "</div>"
            ],
            "text/plain": [
              "       ID      AREA_ID  ... climate_vpd  climate_vs\n",
              "0  test_0  ID_BrbQaEWf  ...  172.133577  546.816831\n",
              "1  test_1  ID_YDAHwOPt  ...  101.949967  126.338276\n",
              "2  test_2  ID_FmLCJMqr  ...  116.533704  298.278159\n",
              "3  test_3  ID_QFZjEhdP  ...   42.886645  313.903780\n",
              "4  test_4  ID_NqclFjyy  ...   76.000000  630.000000\n",
              "\n",
              "[5 rows x 33 columns]"
            ]
          },
          "metadata": {
            "tags": []
          },
          "execution_count": 5
        }
      ]
    },
    {
      "cell_type": "code",
      "metadata": {
        "colab": {
          "base_uri": "https://localhost:8080/"
        },
        "id": "ozwYmHxuzILC",
        "outputId": "27cd7112-cbe4-46d8-8ca3-6a9c6c1fcc41"
      },
      "source": [
        "train.shape"
      ],
      "execution_count": 6,
      "outputs": [
        {
          "output_type": "execute_result",
          "data": {
            "text/plain": [
              "(175236, 34)"
            ]
          },
          "metadata": {
            "tags": []
          },
          "execution_count": 6
        }
      ]
    },
    {
      "cell_type": "code",
      "metadata": {
        "colab": {
          "base_uri": "https://localhost:8080/"
        },
        "id": "CyhP6SbrzILD",
        "outputId": "1fe9922b-5e83-47af-948e-0cb750d96aac"
      },
      "source": [
        "train[\"year_month\"]=train.year*100+train.month\n",
        "test[\"year_month\"]=test.year*100+test.month\n",
        "print(train.year_month.max(),train.year_month.min())\n",
        "print(test.year_month.max(),test.year_month.min())"
      ],
      "execution_count": 7,
      "outputs": [
        {
          "output_type": "stream",
          "text": [
            "201712 200101\n",
            "201812 201801\n"
          ],
          "name": "stdout"
        }
      ]
    },
    {
      "cell_type": "code",
      "metadata": {
        "id": "PfiUlRrSzILD"
      },
      "source": [
        "X_train=train[train.year!=2017]\n",
        "X_val=train[train.year==2017]"
      ],
      "execution_count": 8,
      "outputs": []
    },
    {
      "cell_type": "code",
      "metadata": {
        "colab": {
          "base_uri": "https://localhost:8080/"
        },
        "id": "6dF6X0a0zILD",
        "outputId": "43968717-559b-468c-9abe-99f5f051120a"
      },
      "source": [
        "X_train.columns"
      ],
      "execution_count": 9,
      "outputs": [
        {
          "output_type": "execute_result",
          "data": {
            "text/plain": [
              "Index(['ID', 'AREA_ID', 'ADM0_NAME', 'X', 'Y', 'year', 'month',\n",
              "       'LandcoverCategory_0', 'LandcoverCategory_1', 'LandcoverCategory_2',\n",
              "       'LandcoverCategory_3', 'LandcoverCategory_4', 'LandcoverCategory_5',\n",
              "       'LandcoverCategory_6', 'LandcoverCategory_7', 'LandcoverCategory_8',\n",
              "       'Elevation', 'unwpp-adjusted_population_density', 'precipitation',\n",
              "       'climate_aet', 'climate_def', 'climate_pdsi', 'climate_pet',\n",
              "       'climate_pr', 'climate_ro', 'climate_soil', 'climate_srad',\n",
              "       'climate_swe', 'climate_tmmn', 'climate_tmmx', 'climate_vap',\n",
              "       'climate_vpd', 'climate_vs', 'target', 'year_month'],\n",
              "      dtype='object')"
            ]
          },
          "metadata": {
            "tags": []
          },
          "execution_count": 9
        }
      ]
    },
    {
      "cell_type": "markdown",
      "metadata": {
        "id": "1WKk2uASzILE"
      },
      "source": [
        "### Training  "
      ]
    },
    {
      "cell_type": "code",
      "metadata": {
        "id": "EvVeZ1zVzILE"
      },
      "source": [
        "def lgbm_model(X_train,X_val,test,features,target_name,params):\n",
        "    dtrain = lgbm.Dataset(X_train[features],X_train[target_name])\n",
        "    dval = lgbm.Dataset(X_val[features],X_val[target_name])\n",
        "    lgbm_model= lgbm.train(params=params,\n",
        "                train_set=dtrain,\n",
        "                num_boost_round=num_rounds,\n",
        "                valid_sets=[dtrain,dval],\n",
        "                 verbose_eval=verbose_eval,\n",
        "                 early_stopping_rounds=early_stoping_rounds)\n",
        "    best_iteration = lgbm_model.best_iteration\n",
        "    validation_prediction=lgbm_model.predict(X_val[features], num_iteration=best_iteration)\n",
        "    test_prediction=lgbm_model.predict(test[features], num_iteration=best_iteration)\n",
        "    return test_prediction ,validation_prediction,lgbm_model"
      ],
      "execution_count": 10,
      "outputs": []
    },
    {
      "cell_type": "code",
      "metadata": {
        "id": "Qk6mTsAfzILE"
      },
      "source": [
        "params={'bagging_fraction': 1,\n",
        " 'bagging_freq': 1,\n",
        " 'boosting_type': 'gbdt',\n",
        " 'feature_fraction': 0.9,\n",
        " 'learning_rate': 0.01,\n",
        " 'max_depth': 7,\n",
        " 'metric': 'rmse',\n",
        " 'min_data_in_leaf': 33,\n",
        " 'num_leaves': 44,\n",
        " 'num_threads': 8,\n",
        " 'objective': 'rmse',\n",
        " 'seed': 2020,\n",
        " 'tree_learner': 'serial',\n",
        " \"verbosity\":-1}\n",
        "num_rounds=1000000\n",
        "early_stoping_rounds=50\n",
        "verbose_eval=200\n"
      ],
      "execution_count": 11,
      "outputs": []
    },
    {
      "cell_type": "code",
      "metadata": {
        "id": "2LzFS7uhzILF"
      },
      "source": [
        "feature_drop=[\"ID\",\"AREA_ID\",\"ADM0_NAME\",\"year_month\",\"target\",\"year\"]\n",
        "features=[feature for feature in X_train.columns if feature not in  feature_drop ]"
      ],
      "execution_count": 12,
      "outputs": []
    },
    {
      "cell_type": "code",
      "metadata": {
        "colab": {
          "base_uri": "https://localhost:8080/"
        },
        "id": "RYOYcl6szILF",
        "outputId": "f2af86ca-918b-423a-9343-267d00256732"
      },
      "source": [
        "test_pred,val_pred,model=lgbm_model(X_train,X_val,test,features,\"target\",params)"
      ],
      "execution_count": 16,
      "outputs": [
        {
          "output_type": "stream",
          "text": [
            "Training until validation scores don't improve for 50 rounds.\n",
            "[200]\ttraining's rmse: 0.126635\tvalid_1's rmse: 0.133588\n",
            "[400]\ttraining's rmse: 0.121588\tvalid_1's rmse: 0.129993\n",
            "[600]\ttraining's rmse: 0.119276\tvalid_1's rmse: 0.128708\n",
            "[800]\ttraining's rmse: 0.117519\tvalid_1's rmse: 0.128071\n",
            "[1000]\ttraining's rmse: 0.116173\tvalid_1's rmse: 0.127598\n",
            "[1200]\ttraining's rmse: 0.115014\tvalid_1's rmse: 0.127237\n",
            "[1400]\ttraining's rmse: 0.113917\tvalid_1's rmse: 0.126915\n",
            "[1600]\ttraining's rmse: 0.112858\tvalid_1's rmse: 0.126663\n",
            "[1800]\ttraining's rmse: 0.111935\tvalid_1's rmse: 0.126497\n",
            "[2000]\ttraining's rmse: 0.111075\tvalid_1's rmse: 0.126474\n",
            "[2200]\ttraining's rmse: 0.110254\tvalid_1's rmse: 0.126324\n",
            "[2400]\ttraining's rmse: 0.109395\tvalid_1's rmse: 0.12616\n",
            "Early stopping, best iteration is:\n",
            "[2402]\ttraining's rmse: 0.109389\tvalid_1's rmse: 0.126158\n"
          ],
          "name": "stdout"
        }
      ]
    },
    {
      "cell_type": "code",
      "metadata": {
        "colab": {
          "base_uri": "https://localhost:8080/",
          "height": 313
        },
        "id": "Pa8c5Z40zILF",
        "outputId": "730a50b7-8708-439c-abe9-e79cf9356edb"
      },
      "source": [
        "lgbm.plot_importance(model)"
      ],
      "execution_count": 17,
      "outputs": [
        {
          "output_type": "execute_result",
          "data": {
            "text/plain": [
              "<matplotlib.axes._subplots.AxesSubplot at 0x7f231c684a10>"
            ]
          },
          "metadata": {
            "tags": []
          },
          "execution_count": 17
        },
        {
          "output_type": "display_data",
          "data": {
            "image/png": "[encoded data removed]",
            "text/plain": [
              "<Figure size 432x288 with 1 Axes>"
            ]
          },
          "metadata": {
            "tags": [],
            "needs_background": "light"
          }
        }
      ]
    },
    {
      "cell_type": "code",
      "metadata": {
        "id": "V_LkkvDrzILG"
      },
      "source": [
        "sub=test[[\"ID\"]].copy()\n",
        "sub[\"target\"]=test_pred"
      ],
      "execution_count": 18,
      "outputs": []
    },
    {
      "cell_type": "code",
      "metadata": {
        "id": "gOjNSFOFzILG"
      },
      "source": [
        "sub.to_csv(\"Sub_numeric_features.csv\",index=False)"
      ],
      "execution_count": 19,
      "outputs": []
    },
    {
      "cell_type": "markdown",
      "metadata": {
        "id": "vJWh6QQCzILG"
      },
      "source": [
        "### Label encoding for AREA_ID , ADM0_NAME"
      ]
    },
    {
      "cell_type": "code",
      "metadata": {
        "id": "HHFDPrIdzILH"
      },
      "source": [
        "def label_encoding(train,test,column):\n",
        "    unique_values=pd.concat([train,test])[column].unique()\n",
        "    map_dict={ k:i for k,i in zip(unique_values,range(len(unique_values)))}\n",
        "    train[column]=train[column].map(map_dict)\n",
        "    test[column]=test[column].map(map_dict)    \n",
        "    return train,test"
      ],
      "execution_count": 20,
      "outputs": []
    },
    {
      "cell_type": "code",
      "metadata": {
        "id": "RZjF3_4uzILH"
      },
      "source": [
        "train,test=label_encoding(train,test,\"AREA_ID\")\n",
        "train,test=label_encoding(train,test,\"ADM0_NAME\")"
      ],
      "execution_count": 21,
      "outputs": []
    },
    {
      "cell_type": "code",
      "metadata": {
        "colab": {
          "base_uri": "https://localhost:8080/"
        },
        "id": "zF6lWctrzILH",
        "outputId": "20ecdf37-97b8-4a40-df9a-46a6d846fa41"
      },
      "source": [
        "X_train=train[train.year!=2017]\n",
        "X_val=train[train.year==2017]\n",
        "\n",
        "feature_drop=[\"ID\",\"year_month\",\"target\",\"year\"]\n",
        "features=[feature for feature in X_train.columns if feature not in  feature_drop ]\n",
        "features"
      ],
      "execution_count": 22,
      "outputs": [
        {
          "output_type": "execute_result",
          "data": {
            "text/plain": [
              "['AREA_ID',\n",
              " 'ADM0_NAME',\n",
              " 'X',\n",
              " 'Y',\n",
              " 'month',\n",
              " 'LandcoverCategory_0',\n",
              " 'LandcoverCategory_1',\n",
              " 'LandcoverCategory_2',\n",
              " 'LandcoverCategory_3',\n",
              " 'LandcoverCategory_4',\n",
              " 'LandcoverCategory_5',\n",
              " 'LandcoverCategory_6',\n",
              " 'LandcoverCategory_7',\n",
              " 'LandcoverCategory_8',\n",
              " 'Elevation',\n",
              " 'unwpp-adjusted_population_density',\n",
              " 'precipitation',\n",
              " 'climate_aet',\n",
              " 'climate_def',\n",
              " 'climate_pdsi',\n",
              " 'climate_pet',\n",
              " 'climate_pr',\n",
              " 'climate_ro',\n",
              " 'climate_soil',\n",
              " 'climate_srad',\n",
              " 'climate_swe',\n",
              " 'climate_tmmn',\n",
              " 'climate_tmmx',\n",
              " 'climate_vap',\n",
              " 'climate_vpd',\n",
              " 'climate_vs']"
            ]
          },
          "metadata": {
            "tags": []
          },
          "execution_count": 22
        }
      ]
    },
    {
      "cell_type": "code",
      "metadata": {
        "colab": {
          "base_uri": "https://localhost:8080/"
        },
        "id": "PCXCbe0zzILH",
        "outputId": "d3e52a38-8a3b-44cb-c56a-51c5a32f3948"
      },
      "source": [
        "test_pred,val_pred,model=lgbm_model(X_train,X_val,test,features,\"target\",params)"
      ],
      "execution_count": 23,
      "outputs": [
        {
          "output_type": "stream",
          "text": [
            "Training until validation scores don't improve for 50 rounds.\n",
            "[200]\ttraining's rmse: 0.12652\tvalid_1's rmse: 0.13367\n",
            "[400]\ttraining's rmse: 0.121615\tvalid_1's rmse: 0.129917\n",
            "[600]\ttraining's rmse: 0.119217\tvalid_1's rmse: 0.128542\n",
            "[800]\ttraining's rmse: 0.117468\tvalid_1's rmse: 0.127722\n",
            "[1000]\ttraining's rmse: 0.11608\tvalid_1's rmse: 0.127184\n",
            "[1200]\ttraining's rmse: 0.114755\tvalid_1's rmse: 0.126792\n",
            "[1400]\ttraining's rmse: 0.113668\tvalid_1's rmse: 0.126473\n",
            "[1600]\ttraining's rmse: 0.112694\tvalid_1's rmse: 0.12628\n",
            "[1800]\ttraining's rmse: 0.111718\tvalid_1's rmse: 0.126076\n",
            "[2000]\ttraining's rmse: 0.1108\tvalid_1's rmse: 0.125924\n",
            "[2200]\ttraining's rmse: 0.10993\tvalid_1's rmse: 0.12582\n",
            "[2400]\ttraining's rmse: 0.109183\tvalid_1's rmse: 0.125672\n",
            "Early stopping, best iteration is:\n",
            "[2417]\ttraining's rmse: 0.109111\tvalid_1's rmse: 0.125646\n"
          ],
          "name": "stdout"
        }
      ]
    },
    {
      "cell_type": "code",
      "metadata": {
        "colab": {
          "base_uri": "https://localhost:8080/",
          "height": 313
        },
        "id": "TUMBzM-nzILI",
        "outputId": "e52d18b0-5496-4432-f970-1d5054a7f4be"
      },
      "source": [
        "lgbm.plot_importance(model)"
      ],
      "execution_count": 24,
      "outputs": [
        {
          "output_type": "execute_result",
          "data": {
            "text/plain": [
              "<matplotlib.axes._subplots.AxesSubplot at 0x7f231881fad0>"
            ]
          },
          "metadata": {
            "tags": []
          },
          "execution_count": 24
        },
        {
          "output_type": "display_data",
          "data": {
            "image/png": "[encoded data removed]",
            "text/plain": [
              "<Figure size 432x288 with 1 Axes>"
            ]
          },
          "metadata": {
            "tags": [],
            "needs_background": "light"
          }
        }
      ]
    },
    {
      "cell_type": "code",
      "metadata": {
        "id": "AeYyqU7dzILI"
      },
      "source": [
        "sub=test[[\"ID\"]].copy()\n",
        "sub[\"target\"]=test_pred"
      ],
      "execution_count": 25,
      "outputs": []
    },
    {
      "cell_type": "code",
      "metadata": {
        "id": "2BTorNTGzILI"
      },
      "source": [
        "sub.to_csv(\"Sub_numeric&categoricalfeatures.csv\",index=False)"
      ],
      "execution_count": 26,
      "outputs": []
    },
    {
      "cell_type": "markdown",
      "metadata": {
        "id": "8V5uuZ9EzILJ"
      },
      "source": [
        "### Lag features "
      ]
    },
    {
      "cell_type": "code",
      "metadata": {
        "id": "uHlC1vtozILJ"
      },
      "source": [
        "# features of the last month \n",
        "data=pd.concat([train,test])\n",
        "data.sort_values([\"AREA_ID\",\"year_month\"],inplace=True)\n",
        "num_features=['precipitation']\n",
        "for col in num_features : \n",
        "    data[f\"last_month_{col}\"]=data.groupby(\"AREA_ID\")[col].shift(1)"
      ],
      "execution_count": 27,
      "outputs": []
    },
    {
      "cell_type": "code",
      "metadata": {
        "id": "6QtlM68A_NDA"
      },
      "source": [
        "# features of the last month \r\n",
        "data=pd.concat([train,test])\r\n",
        "data.sort_values([\"AREA_ID\",\"year\",\"month\"],inplace=True)\r\n",
        "num_features=['precipitation']\r\n",
        "for col in num_features : \r\n",
        "    data[f\"last_month_{col}\"]=data.groupby(\"AREA_ID\")[col].shift(1)"
      ],
      "execution_count": null,
      "outputs": []
    },
    {
      "cell_type": "code",
      "metadata": {
        "id": "e5FEUytXzILJ"
      },
      "source": [
        "train=data[data.year!=2018]\n",
        "test=data[data.year==2018]"
      ],
      "execution_count": 28,
      "outputs": []
    },
    {
      "cell_type": "code",
      "metadata": {
        "colab": {
          "base_uri": "https://localhost:8080/"
        },
        "id": "xC-x9-1DzILJ",
        "outputId": "e134be12-2eb9-4b66-b0e3-3a5ca6c623b8"
      },
      "source": [
        "X_train=train[train.year!=2017]\n",
        "X_val=train[train.year==2017]\n",
        "\n",
        "feature_drop=[\"ID\",\"year_month\",\"target\",\"year\"]\n",
        "features=[feature for feature in X_train.columns if feature not in  feature_drop ]\n",
        "features"
      ],
      "execution_count": 29,
      "outputs": [
        {
          "output_type": "execute_result",
          "data": {
            "text/plain": [
              "['AREA_ID',\n",
              " 'ADM0_NAME',\n",
              " 'X',\n",
              " 'Y',\n",
              " 'month',\n",
              " 'LandcoverCategory_0',\n",
              " 'LandcoverCategory_1',\n",
              " 'LandcoverCategory_2',\n",
              " 'LandcoverCategory_3',\n",
              " 'LandcoverCategory_4',\n",
              " 'LandcoverCategory_5',\n",
              " 'LandcoverCategory_6',\n",
              " 'LandcoverCategory_7',\n",
              " 'LandcoverCategory_8',\n",
              " 'Elevation',\n",
              " 'unwpp-adjusted_population_density',\n",
              " 'precipitation',\n",
              " 'climate_aet',\n",
              " 'climate_def',\n",
              " 'climate_pdsi',\n",
              " 'climate_pet',\n",
              " 'climate_pr',\n",
              " 'climate_ro',\n",
              " 'climate_soil',\n",
              " 'climate_srad',\n",
              " 'climate_swe',\n",
              " 'climate_tmmn',\n",
              " 'climate_tmmx',\n",
              " 'climate_vap',\n",
              " 'climate_vpd',\n",
              " 'climate_vs',\n",
              " 'last_month_precipitation']"
            ]
          },
          "metadata": {
            "tags": []
          },
          "execution_count": 29
        }
      ]
    },
    {
      "cell_type": "code",
      "metadata": {
        "collapsed": true,
        "jupyter": {
          "outputs_hidden": true
        },
        "colab": {
          "base_uri": "https://localhost:8080/"
        },
        "id": "rYZUwLaDzILK",
        "outputId": "6cc2b78b-09d2-4994-cb16-ccec0d5ec024"
      },
      "source": [
        "test_pred,val_pred,model=lgbm_model(X_train,X_val,test,features,\"target\",params)"
      ],
      "execution_count": 30,
      "outputs": [
        {
          "output_type": "stream",
          "text": [
            "Training until validation scores don't improve for 50 rounds.\n",
            "[200]\ttraining's rmse: 0.126463\tvalid_1's rmse: 0.133447\n",
            "[400]\ttraining's rmse: 0.121301\tvalid_1's rmse: 0.129656\n",
            "[600]\ttraining's rmse: 0.118833\tvalid_1's rmse: 0.128232\n",
            "[800]\ttraining's rmse: 0.117179\tvalid_1's rmse: 0.127491\n",
            "[1000]\ttraining's rmse: 0.115836\tvalid_1's rmse: 0.126926\n",
            "[1200]\ttraining's rmse: 0.114547\tvalid_1's rmse: 0.126508\n",
            "[1400]\ttraining's rmse: 0.113373\tvalid_1's rmse: 0.126185\n",
            "[1600]\ttraining's rmse: 0.112397\tvalid_1's rmse: 0.126052\n",
            "[1800]\ttraining's rmse: 0.11146\tvalid_1's rmse: 0.12589\n",
            "[2000]\ttraining's rmse: 0.110529\tvalid_1's rmse: 0.125728\n",
            "[2200]\ttraining's rmse: 0.109656\tvalid_1's rmse: 0.125584\n",
            "[2400]\ttraining's rmse: 0.10881\tvalid_1's rmse: 0.12549\n",
            "[2600]\ttraining's rmse: 0.108018\tvalid_1's rmse: 0.125383\n",
            "[2800]\ttraining's rmse: 0.107195\tvalid_1's rmse: 0.125223\n",
            "[3000]\ttraining's rmse: 0.10639\tvalid_1's rmse: 0.125071\n",
            "[3200]\ttraining's rmse: 0.105654\tvalid_1's rmse: 0.125007\n",
            "Early stopping, best iteration is:\n",
            "[3163]\ttraining's rmse: 0.105791\tvalid_1's rmse: 0.124997\n"
          ],
          "name": "stdout"
        }
      ]
    },
    {
      "cell_type": "code",
      "metadata": {
        "id": "BIa5liZozILK"
      },
      "source": [
        "sub=test[[\"ID\"]].copy()\n",
        "sub[\"target\"]=test_pred"
      ],
      "execution_count": 31,
      "outputs": []
    },
    {
      "cell_type": "code",
      "metadata": {
        "id": "5GBQj_vMzILK"
      },
      "source": [
        "sub.to_csv(\"Sub_lag.csv\",index=False)"
      ],
      "execution_count": 32,
      "outputs": []
    },
    {
      "cell_type": "code",
      "metadata": {
        "id": "PseVdDtpzILK"
      },
      "source": [
        "### Random split "
      ],
      "execution_count": 33,
      "outputs": []
    },
    {
      "cell_type": "code",
      "metadata": {
        "id": "jhNc6K3-zILK"
      },
      "source": [
        "from sklearn.model_selection import train_test_split "
      ],
      "execution_count": 34,
      "outputs": []
    },
    {
      "cell_type": "code",
      "metadata": {
        "id": "3QeyaGQJzILL"
      },
      "source": [
        "X_train,X_val=train_test_split(train,test_size=0.1)"
      ],
      "execution_count": 35,
      "outputs": []
    },
    {
      "cell_type": "code",
      "metadata": {
        "collapsed": true,
        "jupyter": {
          "outputs_hidden": true
        },
        "colab": {
          "base_uri": "https://localhost:8080/"
        },
        "id": "CoQMKx42zILL",
        "outputId": "c5a4edd3-b11a-493e-b0af-96f27c29656e"
      },
      "source": [
        "test_pred,val_pred,model=lgbm_model(X_train,X_val,test,features,\"target\",params)"
      ],
      "execution_count": 36,
      "outputs": [
        {
          "output_type": "stream",
          "text": [
            "Training until validation scores don't improve for 50 rounds.\n",
            "[200]\ttraining's rmse: 0.126935\tvalid_1's rmse: 0.126442\n",
            "[400]\ttraining's rmse: 0.121835\tvalid_1's rmse: 0.122719\n",
            "[600]\ttraining's rmse: 0.119422\tvalid_1's rmse: 0.121381\n",
            "[800]\ttraining's rmse: 0.117767\tvalid_1's rmse: 0.120566\n",
            "[1000]\ttraining's rmse: 0.116224\tvalid_1's rmse: 0.119916\n",
            "[1200]\ttraining's rmse: 0.114905\tvalid_1's rmse: 0.119426\n",
            "[1400]\ttraining's rmse: 0.113714\tvalid_1's rmse: 0.119097\n",
            "[1600]\ttraining's rmse: 0.112663\tvalid_1's rmse: 0.118795\n",
            "[1800]\ttraining's rmse: 0.11173\tvalid_1's rmse: 0.118535\n",
            "[2000]\ttraining's rmse: 0.110824\tvalid_1's rmse: 0.118297\n",
            "[2200]\ttraining's rmse: 0.109953\tvalid_1's rmse: 0.118071\n",
            "[2400]\ttraining's rmse: 0.109108\tvalid_1's rmse: 0.117911\n",
            "[2600]\ttraining's rmse: 0.108242\tvalid_1's rmse: 0.117716\n",
            "[2800]\ttraining's rmse: 0.107386\tvalid_1's rmse: 0.117544\n",
            "[3000]\ttraining's rmse: 0.10662\tvalid_1's rmse: 0.117378\n",
            "[3200]\ttraining's rmse: 0.105873\tvalid_1's rmse: 0.11729\n",
            "[3400]\ttraining's rmse: 0.10522\tvalid_1's rmse: 0.117232\n",
            "[3600]\ttraining's rmse: 0.104478\tvalid_1's rmse: 0.117123\n",
            "[3800]\ttraining's rmse: 0.103762\tvalid_1's rmse: 0.116981\n",
            "[4000]\ttraining's rmse: 0.10306\tvalid_1's rmse: 0.116881\n",
            "[4200]\ttraining's rmse: 0.10236\tvalid_1's rmse: 0.116777\n",
            "[4400]\ttraining's rmse: 0.101758\tvalid_1's rmse: 0.116718\n",
            "[4600]\ttraining's rmse: 0.101119\tvalid_1's rmse: 0.116592\n",
            "[4800]\ttraining's rmse: 0.100515\tvalid_1's rmse: 0.116544\n",
            "[5000]\ttraining's rmse: 0.0998942\tvalid_1's rmse: 0.11649\n",
            "Early stopping, best iteration is:\n",
            "[5027]\ttraining's rmse: 0.0998161\tvalid_1's rmse: 0.116482\n"
          ],
          "name": "stdout"
        }
      ]
    },
    {
      "cell_type": "code",
      "metadata": {
        "id": "YepWVh9ozILL"
      },
      "source": [
        "sub=test[[\"ID\"]].copy()\n",
        "sub[\"target\"]=test_pred"
      ],
      "execution_count": 37,
      "outputs": []
    },
    {
      "cell_type": "code",
      "metadata": {
        "id": "LVSdFOuKzILL"
      },
      "source": [
        "sub.to_csv(\"Sub_random_split.csv\",index=False)"
      ],
      "execution_count": 38,
      "outputs": []
    },
    {
      "cell_type": "markdown",
      "metadata": {
        "id": "WpX1ve2MzILM"
      },
      "source": [
        "### Kfold "
      ]
    },
    {
      "cell_type": "code",
      "metadata": {
        "id": "0rsKTd1QzILM"
      },
      "source": [
        "import numpy as np \n",
        "from sklearn.model_selection import KFold\n",
        "from sklearn.metrics import mean_squared_error \n",
        "def rmse(x,y):\n",
        "    return np.sqrt(mean_squared_error(x,y))\n",
        "    \n",
        "def Kfold_train(train,test,features,params,target,n_splits=10): \n",
        "    train.reset_index(inplace=True,drop=True)\n",
        "    kfold=KFold(n_splits=n_splits,random_state=2021,shuffle=True)\n",
        "    oof_val=np.zeros_like(train[target])\n",
        "    oof_test=[]\n",
        "    for i ,(train_indx, val_index) in enumerate(kfold.split(train)) :\n",
        "        X_train=train.iloc[train_indx]\n",
        "        X_val=train.iloc[val_index] \n",
        "        test_pred,val_pred,model=lgbm_model(X_train,X_val,test,features,\"target\",params)\n",
        "        oof_val[val_index]=val_pred\n",
        "        oof_test.append(test_pred)\n",
        "    \n",
        "    \n",
        "    print(\"validation score :\",rmse(train[target],oof_val) )\n",
        "    test_pred=np.mean(oof_test,0)\n",
        "    return oof_val , test_pred\n",
        "\n"
      ],
      "execution_count": 39,
      "outputs": []
    },
    {
      "cell_type": "code",
      "metadata": {
        "colab": {
          "base_uri": "https://localhost:8080/"
        },
        "id": "i6ELJYYpzILM",
        "outputId": "cb9e0669-2dc0-409b-b3b0-b5c761e1bb5b"
      },
      "source": [
        "val_pred,test_pred=Kfold_train(train,test,features,params,\"target\")"
      ],
      "execution_count": 40,
      "outputs": [
        {
          "output_type": "stream",
          "text": [
            "Training until validation scores don't improve for 50 rounds.\n",
            "[200]\ttraining's rmse: 0.127074\tvalid_1's rmse: 0.125396\n",
            "[400]\ttraining's rmse: 0.121907\tvalid_1's rmse: 0.121203\n",
            "[600]\ttraining's rmse: 0.119504\tvalid_1's rmse: 0.119638\n",
            "[800]\ttraining's rmse: 0.11777\tvalid_1's rmse: 0.118724\n",
            "[1000]\ttraining's rmse: 0.116268\tvalid_1's rmse: 0.117976\n",
            "[1200]\ttraining's rmse: 0.114931\tvalid_1's rmse: 0.117337\n",
            "[1400]\ttraining's rmse: 0.113751\tvalid_1's rmse: 0.116871\n",
            "[1600]\ttraining's rmse: 0.112689\tvalid_1's rmse: 0.116483\n",
            "[1800]\ttraining's rmse: 0.111661\tvalid_1's rmse: 0.116128\n",
            "[2000]\ttraining's rmse: 0.110717\tvalid_1's rmse: 0.115856\n",
            "[2200]\ttraining's rmse: 0.109763\tvalid_1's rmse: 0.115567\n",
            "[2400]\ttraining's rmse: 0.108871\tvalid_1's rmse: 0.115302\n",
            "[2600]\ttraining's rmse: 0.107986\tvalid_1's rmse: 0.11505\n",
            "[2800]\ttraining's rmse: 0.107187\tvalid_1's rmse: 0.114855\n",
            "[3000]\ttraining's rmse: 0.10646\tvalid_1's rmse: 0.11468\n",
            "[3200]\ttraining's rmse: 0.105759\tvalid_1's rmse: 0.114528\n",
            "[3400]\ttraining's rmse: 0.105022\tvalid_1's rmse: 0.11436\n",
            "[3600]\ttraining's rmse: 0.10432\tvalid_1's rmse: 0.114243\n",
            "[3800]\ttraining's rmse: 0.103629\tvalid_1's rmse: 0.114148\n",
            "[4000]\ttraining's rmse: 0.10297\tvalid_1's rmse: 0.114044\n",
            "[4200]\ttraining's rmse: 0.102311\tvalid_1's rmse: 0.113946\n",
            "Early stopping, best iteration is:\n",
            "[4259]\ttraining's rmse: 0.102143\tvalid_1's rmse: 0.113931\n",
            "Training until validation scores don't improve for 50 rounds.\n",
            "[200]\ttraining's rmse: 0.126564\tvalid_1's rmse: 0.129242\n",
            "[400]\ttraining's rmse: 0.121401\tvalid_1's rmse: 0.125608\n",
            "[600]\ttraining's rmse: 0.118961\tvalid_1's rmse: 0.124369\n",
            "[800]\ttraining's rmse: 0.117245\tvalid_1's rmse: 0.123502\n",
            "[1000]\ttraining's rmse: 0.115688\tvalid_1's rmse: 0.122833\n",
            "[1200]\ttraining's rmse: 0.114299\tvalid_1's rmse: 0.122247\n",
            "[1400]\ttraining's rmse: 0.113141\tvalid_1's rmse: 0.121794\n",
            "[1600]\ttraining's rmse: 0.1121\tvalid_1's rmse: 0.12145\n",
            "[1800]\ttraining's rmse: 0.111181\tvalid_1's rmse: 0.121188\n",
            "[2000]\ttraining's rmse: 0.110229\tvalid_1's rmse: 0.120941\n",
            "[2200]\ttraining's rmse: 0.109383\tvalid_1's rmse: 0.120724\n",
            "[2400]\ttraining's rmse: 0.10849\tvalid_1's rmse: 0.120503\n",
            "[2600]\ttraining's rmse: 0.107726\tvalid_1's rmse: 0.120316\n",
            "[2800]\ttraining's rmse: 0.106891\tvalid_1's rmse: 0.120152\n",
            "[3000]\ttraining's rmse: 0.106122\tvalid_1's rmse: 0.120016\n",
            "[3200]\ttraining's rmse: 0.105414\tvalid_1's rmse: 0.119904\n",
            "[3400]\ttraining's rmse: 0.104718\tvalid_1's rmse: 0.119759\n",
            "[3600]\ttraining's rmse: 0.10408\tvalid_1's rmse: 0.119659\n",
            "[3800]\ttraining's rmse: 0.103378\tvalid_1's rmse: 0.119524\n",
            "[4000]\ttraining's rmse: 0.102707\tvalid_1's rmse: 0.119432\n",
            "[4200]\ttraining's rmse: 0.102047\tvalid_1's rmse: 0.119345\n",
            "[4400]\ttraining's rmse: 0.101402\tvalid_1's rmse: 0.119282\n",
            "[4600]\ttraining's rmse: 0.10083\tvalid_1's rmse: 0.119229\n",
            "[4800]\ttraining's rmse: 0.100242\tvalid_1's rmse: 0.11916\n",
            "[5000]\ttraining's rmse: 0.0996582\tvalid_1's rmse: 0.11912\n",
            "[5200]\ttraining's rmse: 0.0991137\tvalid_1's rmse: 0.119079\n",
            "[5400]\ttraining's rmse: 0.0985968\tvalid_1's rmse: 0.119049\n",
            "[5600]\ttraining's rmse: 0.0980518\tvalid_1's rmse: 0.119015\n",
            "[5800]\ttraining's rmse: 0.0974954\tvalid_1's rmse: 0.11896\n",
            "[6000]\ttraining's rmse: 0.0969143\tvalid_1's rmse: 0.118898\n",
            "Early stopping, best iteration is:\n",
            "[6030]\ttraining's rmse: 0.0968313\tvalid_1's rmse: 0.118892\n",
            "Training until validation scores don't improve for 50 rounds.\n",
            "[200]\ttraining's rmse: 0.127038\tvalid_1's rmse: 0.125812\n",
            "[400]\ttraining's rmse: 0.121764\tvalid_1's rmse: 0.121548\n",
            "[600]\ttraining's rmse: 0.119278\tvalid_1's rmse: 0.12002\n",
            "[800]\ttraining's rmse: 0.117536\tvalid_1's rmse: 0.1191\n",
            "[1000]\ttraining's rmse: 0.115994\tvalid_1's rmse: 0.118436\n",
            "[1200]\ttraining's rmse: 0.114724\tvalid_1's rmse: 0.117965\n",
            "[1400]\ttraining's rmse: 0.113533\tvalid_1's rmse: 0.11758\n",
            "[1600]\ttraining's rmse: 0.112449\tvalid_1's rmse: 0.117213\n",
            "[1800]\ttraining's rmse: 0.111566\tvalid_1's rmse: 0.116973\n",
            "[2000]\ttraining's rmse: 0.110676\tvalid_1's rmse: 0.116715\n",
            "[2200]\ttraining's rmse: 0.109893\tvalid_1's rmse: 0.116605\n",
            "[2400]\ttraining's rmse: 0.109114\tvalid_1's rmse: 0.116467\n",
            "[2600]\ttraining's rmse: 0.10834\tvalid_1's rmse: 0.11632\n",
            "[2800]\ttraining's rmse: 0.1076\tvalid_1's rmse: 0.116189\n",
            "[3000]\ttraining's rmse: 0.106799\tvalid_1's rmse: 0.115997\n",
            "[3200]\ttraining's rmse: 0.106049\tvalid_1's rmse: 0.115858\n",
            "[3400]\ttraining's rmse: 0.105296\tvalid_1's rmse: 0.11575\n",
            "[3600]\ttraining's rmse: 0.104615\tvalid_1's rmse: 0.115635\n",
            "[3800]\ttraining's rmse: 0.103902\tvalid_1's rmse: 0.115517\n",
            "[4000]\ttraining's rmse: 0.103228\tvalid_1's rmse: 0.115396\n",
            "[4200]\ttraining's rmse: 0.102559\tvalid_1's rmse: 0.115322\n",
            "[4400]\ttraining's rmse: 0.101958\tvalid_1's rmse: 0.115235\n",
            "[4600]\ttraining's rmse: 0.101346\tvalid_1's rmse: 0.115178\n",
            "[4800]\ttraining's rmse: 0.100703\tvalid_1's rmse: 0.115066\n",
            "[5000]\ttraining's rmse: 0.100131\tvalid_1's rmse: 0.115005\n",
            "[5200]\ttraining's rmse: 0.0995362\tvalid_1's rmse: 0.114946\n",
            "[5400]\ttraining's rmse: 0.0989507\tvalid_1's rmse: 0.114882\n",
            "[5600]\ttraining's rmse: 0.0983508\tvalid_1's rmse: 0.114807\n",
            "Early stopping, best iteration is:\n",
            "[5650]\ttraining's rmse: 0.0982008\tvalid_1's rmse: 0.114787\n",
            "Training until validation scores don't improve for 50 rounds.\n",
            "[200]\ttraining's rmse: 0.12688\tvalid_1's rmse: 0.127846\n",
            "[400]\ttraining's rmse: 0.121736\tvalid_1's rmse: 0.123638\n",
            "[600]\ttraining's rmse: 0.119315\tvalid_1's rmse: 0.122037\n",
            "[800]\ttraining's rmse: 0.117627\tvalid_1's rmse: 0.121089\n",
            "[1000]\ttraining's rmse: 0.116172\tvalid_1's rmse: 0.120287\n",
            "[1200]\ttraining's rmse: 0.114791\tvalid_1's rmse: 0.11954\n",
            "[1400]\ttraining's rmse: 0.113677\tvalid_1's rmse: 0.119032\n",
            "[1600]\ttraining's rmse: 0.112634\tvalid_1's rmse: 0.118616\n",
            "[1800]\ttraining's rmse: 0.111591\tvalid_1's rmse: 0.118223\n",
            "[2000]\ttraining's rmse: 0.110597\tvalid_1's rmse: 0.117845\n",
            "[2200]\ttraining's rmse: 0.109709\tvalid_1's rmse: 0.117552\n",
            "[2400]\ttraining's rmse: 0.108875\tvalid_1's rmse: 0.117277\n",
            "[2600]\ttraining's rmse: 0.108141\tvalid_1's rmse: 0.117106\n",
            "[2800]\ttraining's rmse: 0.107378\tvalid_1's rmse: 0.116922\n",
            "[3000]\ttraining's rmse: 0.106606\tvalid_1's rmse: 0.116765\n",
            "[3200]\ttraining's rmse: 0.105844\tvalid_1's rmse: 0.116567\n",
            "[3400]\ttraining's rmse: 0.105175\tvalid_1's rmse: 0.116449\n",
            "[3600]\ttraining's rmse: 0.104483\tvalid_1's rmse: 0.116325\n",
            "[3800]\ttraining's rmse: 0.10387\tvalid_1's rmse: 0.116202\n",
            "[4000]\ttraining's rmse: 0.103228\tvalid_1's rmse: 0.116057\n",
            "[4200]\ttraining's rmse: 0.102626\tvalid_1's rmse: 0.115979\n",
            "[4400]\ttraining's rmse: 0.102053\tvalid_1's rmse: 0.115896\n",
            "[4600]\ttraining's rmse: 0.101451\tvalid_1's rmse: 0.11579\n",
            "[4800]\ttraining's rmse: 0.100899\tvalid_1's rmse: 0.115715\n",
            "[5000]\ttraining's rmse: 0.100344\tvalid_1's rmse: 0.115635\n",
            "[5200]\ttraining's rmse: 0.0997747\tvalid_1's rmse: 0.115551\n",
            "[5400]\ttraining's rmse: 0.0992378\tvalid_1's rmse: 0.115474\n",
            "[5600]\ttraining's rmse: 0.0986345\tvalid_1's rmse: 0.115348\n",
            "[5800]\ttraining's rmse: 0.0980657\tvalid_1's rmse: 0.115266\n",
            "[6000]\ttraining's rmse: 0.0974712\tvalid_1's rmse: 0.115171\n",
            "[6200]\ttraining's rmse: 0.0969354\tvalid_1's rmse: 0.115079\n",
            "[6400]\ttraining's rmse: 0.0963919\tvalid_1's rmse: 0.115008\n",
            "[6600]\ttraining's rmse: 0.09584\tvalid_1's rmse: 0.11493\n",
            "[6800]\ttraining's rmse: 0.0953327\tvalid_1's rmse: 0.114874\n",
            "[7000]\ttraining's rmse: 0.0948202\tvalid_1's rmse: 0.114812\n",
            "[7200]\ttraining's rmse: 0.094336\tvalid_1's rmse: 0.114756\n",
            "[7400]\ttraining's rmse: 0.0938651\tvalid_1's rmse: 0.114709\n",
            "Early stopping, best iteration is:\n",
            "[7548]\ttraining's rmse: 0.0935038\tvalid_1's rmse: 0.114693\n",
            "Training until validation scores don't improve for 50 rounds.\n",
            "[200]\ttraining's rmse: 0.126763\tvalid_1's rmse: 0.128829\n",
            "[400]\ttraining's rmse: 0.121538\tvalid_1's rmse: 0.124392\n",
            "[600]\ttraining's rmse: 0.11909\tvalid_1's rmse: 0.122808\n",
            "[800]\ttraining's rmse: 0.117386\tvalid_1's rmse: 0.121953\n",
            "[1000]\ttraining's rmse: 0.115935\tvalid_1's rmse: 0.121229\n",
            "[1200]\ttraining's rmse: 0.114621\tvalid_1's rmse: 0.120641\n",
            "[1400]\ttraining's rmse: 0.113405\tvalid_1's rmse: 0.120169\n",
            "[1600]\ttraining's rmse: 0.112325\tvalid_1's rmse: 0.119815\n",
            "[1800]\ttraining's rmse: 0.111412\tvalid_1's rmse: 0.119536\n",
            "[2000]\ttraining's rmse: 0.110483\tvalid_1's rmse: 0.119257\n",
            "[2200]\ttraining's rmse: 0.109542\tvalid_1's rmse: 0.118975\n",
            "[2400]\ttraining's rmse: 0.108761\tvalid_1's rmse: 0.118796\n",
            "[2600]\ttraining's rmse: 0.107969\tvalid_1's rmse: 0.118613\n",
            "[2800]\ttraining's rmse: 0.107094\tvalid_1's rmse: 0.118403\n",
            "[3000]\ttraining's rmse: 0.106365\tvalid_1's rmse: 0.118204\n",
            "[3200]\ttraining's rmse: 0.105632\tvalid_1's rmse: 0.118051\n",
            "[3400]\ttraining's rmse: 0.104925\tvalid_1's rmse: 0.117934\n",
            "[3600]\ttraining's rmse: 0.10423\tvalid_1's rmse: 0.117829\n",
            "[3800]\ttraining's rmse: 0.103548\tvalid_1's rmse: 0.117733\n",
            "[4000]\ttraining's rmse: 0.102807\tvalid_1's rmse: 0.117626\n",
            "[4200]\ttraining's rmse: 0.102117\tvalid_1's rmse: 0.117532\n",
            "[4400]\ttraining's rmse: 0.1015\tvalid_1's rmse: 0.117446\n",
            "[4600]\ttraining's rmse: 0.100849\tvalid_1's rmse: 0.117362\n",
            "[4800]\ttraining's rmse: 0.100227\tvalid_1's rmse: 0.117261\n",
            "[5000]\ttraining's rmse: 0.0996364\tvalid_1's rmse: 0.117179\n",
            "[5200]\ttraining's rmse: 0.0990676\tvalid_1's rmse: 0.117099\n",
            "[5400]\ttraining's rmse: 0.0984858\tvalid_1's rmse: 0.117012\n",
            "[5600]\ttraining's rmse: 0.0979273\tvalid_1's rmse: 0.116917\n",
            "[5800]\ttraining's rmse: 0.0973413\tvalid_1's rmse: 0.116834\n",
            "[6000]\ttraining's rmse: 0.0967986\tvalid_1's rmse: 0.116772\n",
            "[6200]\ttraining's rmse: 0.0962622\tvalid_1's rmse: 0.116722\n",
            "[6400]\ttraining's rmse: 0.0957184\tvalid_1's rmse: 0.116693\n",
            "[6600]\ttraining's rmse: 0.0952277\tvalid_1's rmse: 0.116673\n",
            "[6800]\ttraining's rmse: 0.0947387\tvalid_1's rmse: 0.116637\n",
            "[7000]\ttraining's rmse: 0.0942562\tvalid_1's rmse: 0.116612\n",
            "Early stopping, best iteration is:\n",
            "[7032]\ttraining's rmse: 0.0941763\tvalid_1's rmse: 0.116606\n",
            "Training until validation scores don't improve for 50 rounds.\n",
            "[200]\ttraining's rmse: 0.126152\tvalid_1's rmse: 0.13418\n",
            "[400]\ttraining's rmse: 0.120932\tvalid_1's rmse: 0.130007\n",
            "[600]\ttraining's rmse: 0.11851\tvalid_1's rmse: 0.128404\n",
            "[800]\ttraining's rmse: 0.116787\tvalid_1's rmse: 0.127353\n",
            "[1000]\ttraining's rmse: 0.11529\tvalid_1's rmse: 0.126568\n",
            "[1200]\ttraining's rmse: 0.113975\tvalid_1's rmse: 0.125948\n",
            "[1400]\ttraining's rmse: 0.112762\tvalid_1's rmse: 0.125518\n",
            "[1600]\ttraining's rmse: 0.111682\tvalid_1's rmse: 0.125102\n",
            "[1800]\ttraining's rmse: 0.110642\tvalid_1's rmse: 0.124767\n",
            "[2000]\ttraining's rmse: 0.109685\tvalid_1's rmse: 0.12449\n",
            "[2200]\ttraining's rmse: 0.108818\tvalid_1's rmse: 0.124262\n",
            "[2400]\ttraining's rmse: 0.107972\tvalid_1's rmse: 0.124017\n",
            "[2600]\ttraining's rmse: 0.107147\tvalid_1's rmse: 0.123779\n",
            "[2800]\ttraining's rmse: 0.106385\tvalid_1's rmse: 0.123596\n",
            "[3000]\ttraining's rmse: 0.105594\tvalid_1's rmse: 0.123393\n",
            "[3200]\ttraining's rmse: 0.104921\tvalid_1's rmse: 0.123297\n",
            "[3400]\ttraining's rmse: 0.10422\tvalid_1's rmse: 0.123145\n",
            "[3600]\ttraining's rmse: 0.103506\tvalid_1's rmse: 0.123007\n",
            "[3800]\ttraining's rmse: 0.102901\tvalid_1's rmse: 0.122894\n",
            "[4000]\ttraining's rmse: 0.10226\tvalid_1's rmse: 0.122746\n",
            "[4200]\ttraining's rmse: 0.101637\tvalid_1's rmse: 0.12265\n",
            "[4400]\ttraining's rmse: 0.101069\tvalid_1's rmse: 0.122569\n",
            "[4600]\ttraining's rmse: 0.10051\tvalid_1's rmse: 0.122502\n",
            "[4800]\ttraining's rmse: 0.0999258\tvalid_1's rmse: 0.12244\n",
            "[5000]\ttraining's rmse: 0.0993396\tvalid_1's rmse: 0.122375\n",
            "[5200]\ttraining's rmse: 0.0988035\tvalid_1's rmse: 0.122293\n",
            "[5400]\ttraining's rmse: 0.0982135\tvalid_1's rmse: 0.122228\n",
            "[5600]\ttraining's rmse: 0.0975889\tvalid_1's rmse: 0.122144\n",
            "[5800]\ttraining's rmse: 0.0970168\tvalid_1's rmse: 0.122053\n",
            "Early stopping, best iteration is:\n",
            "[5826]\ttraining's rmse: 0.0969417\tvalid_1's rmse: 0.122042\n",
            "Training until validation scores don't improve for 50 rounds.\n",
            "[200]\ttraining's rmse: 0.127142\tvalid_1's rmse: 0.125967\n",
            "[400]\ttraining's rmse: 0.122018\tvalid_1's rmse: 0.121869\n",
            "[600]\ttraining's rmse: 0.119655\tvalid_1's rmse: 0.120349\n",
            "[800]\ttraining's rmse: 0.117844\tvalid_1's rmse: 0.119309\n",
            "[1000]\ttraining's rmse: 0.116332\tvalid_1's rmse: 0.118475\n",
            "[1200]\ttraining's rmse: 0.115063\tvalid_1's rmse: 0.117982\n",
            "[1400]\ttraining's rmse: 0.113918\tvalid_1's rmse: 0.117573\n",
            "[1600]\ttraining's rmse: 0.112953\tvalid_1's rmse: 0.117242\n",
            "[1800]\ttraining's rmse: 0.112034\tvalid_1's rmse: 0.116996\n",
            "[2000]\ttraining's rmse: 0.11119\tvalid_1's rmse: 0.116741\n",
            "[2200]\ttraining's rmse: 0.110299\tvalid_1's rmse: 0.116512\n",
            "[2400]\ttraining's rmse: 0.10943\tvalid_1's rmse: 0.1163\n",
            "[2600]\ttraining's rmse: 0.10859\tvalid_1's rmse: 0.116092\n",
            "[2800]\ttraining's rmse: 0.107769\tvalid_1's rmse: 0.115883\n",
            "[3000]\ttraining's rmse: 0.106992\tvalid_1's rmse: 0.115708\n",
            "[3200]\ttraining's rmse: 0.106203\tvalid_1's rmse: 0.115518\n",
            "[3400]\ttraining's rmse: 0.105453\tvalid_1's rmse: 0.11535\n",
            "[3600]\ttraining's rmse: 0.104769\tvalid_1's rmse: 0.115233\n",
            "[3800]\ttraining's rmse: 0.10404\tvalid_1's rmse: 0.115115\n",
            "[4000]\ttraining's rmse: 0.103396\tvalid_1's rmse: 0.115022\n",
            "[4200]\ttraining's rmse: 0.1027\tvalid_1's rmse: 0.11485\n",
            "[4400]\ttraining's rmse: 0.102012\tvalid_1's rmse: 0.114726\n",
            "[4600]\ttraining's rmse: 0.101368\tvalid_1's rmse: 0.114592\n",
            "[4800]\ttraining's rmse: 0.100788\tvalid_1's rmse: 0.114495\n",
            "[5000]\ttraining's rmse: 0.100208\tvalid_1's rmse: 0.114444\n",
            "[5200]\ttraining's rmse: 0.0996299\tvalid_1's rmse: 0.11437\n",
            "[5400]\ttraining's rmse: 0.0990569\tvalid_1's rmse: 0.114293\n",
            "[5600]\ttraining's rmse: 0.0985206\tvalid_1's rmse: 0.114233\n",
            "[5800]\ttraining's rmse: 0.0980284\tvalid_1's rmse: 0.114164\n",
            "[6000]\ttraining's rmse: 0.0975341\tvalid_1's rmse: 0.114102\n",
            "[6200]\ttraining's rmse: 0.096992\tvalid_1's rmse: 0.114045\n",
            "[6400]\ttraining's rmse: 0.0964844\tvalid_1's rmse: 0.11399\n",
            "[6600]\ttraining's rmse: 0.0959545\tvalid_1's rmse: 0.113951\n",
            "[6800]\ttraining's rmse: 0.095451\tvalid_1's rmse: 0.113902\n",
            "[7000]\ttraining's rmse: 0.0950211\tvalid_1's rmse: 0.113879\n",
            "Early stopping, best iteration is:\n",
            "[7062]\ttraining's rmse: 0.0948822\tvalid_1's rmse: 0.113869\n",
            "Training until validation scores don't improve for 50 rounds.\n",
            "[200]\ttraining's rmse: 0.127174\tvalid_1's rmse: 0.125102\n",
            "[400]\ttraining's rmse: 0.121911\tvalid_1's rmse: 0.120998\n",
            "[600]\ttraining's rmse: 0.119478\tvalid_1's rmse: 0.119439\n",
            "[800]\ttraining's rmse: 0.117736\tvalid_1's rmse: 0.118497\n",
            "[1000]\ttraining's rmse: 0.116269\tvalid_1's rmse: 0.117776\n",
            "[1200]\ttraining's rmse: 0.114963\tvalid_1's rmse: 0.117158\n",
            "[1400]\ttraining's rmse: 0.113768\tvalid_1's rmse: 0.116719\n",
            "[1600]\ttraining's rmse: 0.112724\tvalid_1's rmse: 0.116366\n",
            "[1800]\ttraining's rmse: 0.111709\tvalid_1's rmse: 0.116092\n",
            "[2000]\ttraining's rmse: 0.110802\tvalid_1's rmse: 0.115917\n",
            "[2200]\ttraining's rmse: 0.109936\tvalid_1's rmse: 0.1157\n",
            "[2400]\ttraining's rmse: 0.109085\tvalid_1's rmse: 0.115487\n",
            "[2600]\ttraining's rmse: 0.108244\tvalid_1's rmse: 0.115293\n",
            "[2800]\ttraining's rmse: 0.107452\tvalid_1's rmse: 0.115112\n",
            "[3000]\ttraining's rmse: 0.106659\tvalid_1's rmse: 0.114975\n",
            "[3200]\ttraining's rmse: 0.105931\tvalid_1's rmse: 0.114835\n",
            "[3400]\ttraining's rmse: 0.105201\tvalid_1's rmse: 0.11466\n",
            "[3600]\ttraining's rmse: 0.104516\tvalid_1's rmse: 0.114499\n",
            "[3800]\ttraining's rmse: 0.103855\tvalid_1's rmse: 0.114378\n",
            "[4000]\ttraining's rmse: 0.103206\tvalid_1's rmse: 0.114257\n",
            "[4200]\ttraining's rmse: 0.10253\tvalid_1's rmse: 0.11415\n",
            "[4400]\ttraining's rmse: 0.101888\tvalid_1's rmse: 0.114067\n",
            "[4600]\ttraining's rmse: 0.101266\tvalid_1's rmse: 0.114006\n",
            "[4800]\ttraining's rmse: 0.100653\tvalid_1's rmse: 0.113927\n",
            "[5000]\ttraining's rmse: 0.100068\tvalid_1's rmse: 0.113836\n",
            "Early stopping, best iteration is:\n",
            "[5099]\ttraining's rmse: 0.0997852\tvalid_1's rmse: 0.113814\n",
            "Training until validation scores don't improve for 50 rounds.\n",
            "[200]\ttraining's rmse: 0.1264\tvalid_1's rmse: 0.131292\n",
            "[400]\ttraining's rmse: 0.121141\tvalid_1's rmse: 0.127548\n",
            "[600]\ttraining's rmse: 0.118701\tvalid_1's rmse: 0.126227\n",
            "[800]\ttraining's rmse: 0.11692\tvalid_1's rmse: 0.125297\n",
            "[1000]\ttraining's rmse: 0.115405\tvalid_1's rmse: 0.124607\n",
            "[1200]\ttraining's rmse: 0.114079\tvalid_1's rmse: 0.124097\n",
            "[1400]\ttraining's rmse: 0.112956\tvalid_1's rmse: 0.123729\n",
            "[1600]\ttraining's rmse: 0.111923\tvalid_1's rmse: 0.123376\n",
            "[1800]\ttraining's rmse: 0.110973\tvalid_1's rmse: 0.123083\n",
            "[2000]\ttraining's rmse: 0.110059\tvalid_1's rmse: 0.122807\n",
            "[2200]\ttraining's rmse: 0.109197\tvalid_1's rmse: 0.12259\n",
            "[2400]\ttraining's rmse: 0.108407\tvalid_1's rmse: 0.122437\n",
            "[2600]\ttraining's rmse: 0.107524\tvalid_1's rmse: 0.122243\n",
            "[2800]\ttraining's rmse: 0.106755\tvalid_1's rmse: 0.122111\n",
            "[3000]\ttraining's rmse: 0.106041\tvalid_1's rmse: 0.121957\n",
            "[3200]\ttraining's rmse: 0.105348\tvalid_1's rmse: 0.121842\n",
            "[3400]\ttraining's rmse: 0.104645\tvalid_1's rmse: 0.12171\n",
            "[3600]\ttraining's rmse: 0.103933\tvalid_1's rmse: 0.12161\n",
            "[3800]\ttraining's rmse: 0.103205\tvalid_1's rmse: 0.121507\n",
            "[4000]\ttraining's rmse: 0.102598\tvalid_1's rmse: 0.121444\n",
            "[4200]\ttraining's rmse: 0.101942\tvalid_1's rmse: 0.121352\n",
            "[4400]\ttraining's rmse: 0.10132\tvalid_1's rmse: 0.121268\n",
            "[4600]\ttraining's rmse: 0.100709\tvalid_1's rmse: 0.121212\n",
            "[4800]\ttraining's rmse: 0.100082\tvalid_1's rmse: 0.121146\n",
            "[5000]\ttraining's rmse: 0.0995016\tvalid_1's rmse: 0.121068\n",
            "Early stopping, best iteration is:\n",
            "[5093]\ttraining's rmse: 0.0992017\tvalid_1's rmse: 0.121008\n",
            "Training until validation scores don't improve for 50 rounds.\n",
            "[200]\ttraining's rmse: 0.126854\tvalid_1's rmse: 0.128492\n",
            "[400]\ttraining's rmse: 0.121597\tvalid_1's rmse: 0.123955\n",
            "[600]\ttraining's rmse: 0.119153\tvalid_1's rmse: 0.122255\n",
            "[800]\ttraining's rmse: 0.117427\tvalid_1's rmse: 0.121313\n",
            "[1000]\ttraining's rmse: 0.115972\tvalid_1's rmse: 0.120651\n",
            "[1200]\ttraining's rmse: 0.1147\tvalid_1's rmse: 0.120126\n",
            "[1400]\ttraining's rmse: 0.113496\tvalid_1's rmse: 0.119685\n",
            "[1600]\ttraining's rmse: 0.112438\tvalid_1's rmse: 0.119321\n",
            "[1800]\ttraining's rmse: 0.111471\tvalid_1's rmse: 0.119008\n",
            "[2000]\ttraining's rmse: 0.11046\tvalid_1's rmse: 0.118687\n",
            "[2200]\ttraining's rmse: 0.109629\tvalid_1's rmse: 0.118495\n",
            "[2400]\ttraining's rmse: 0.10878\tvalid_1's rmse: 0.118277\n",
            "[2600]\ttraining's rmse: 0.107974\tvalid_1's rmse: 0.118092\n",
            "[2800]\ttraining's rmse: 0.107199\tvalid_1's rmse: 0.117955\n",
            "[3000]\ttraining's rmse: 0.106421\tvalid_1's rmse: 0.117785\n",
            "[3200]\ttraining's rmse: 0.105713\tvalid_1's rmse: 0.11764\n",
            "[3400]\ttraining's rmse: 0.105046\tvalid_1's rmse: 0.117555\n",
            "[3600]\ttraining's rmse: 0.104359\tvalid_1's rmse: 0.117414\n",
            "[3800]\ttraining's rmse: 0.103684\tvalid_1's rmse: 0.117306\n",
            "[4000]\ttraining's rmse: 0.102995\tvalid_1's rmse: 0.117184\n",
            "[4200]\ttraining's rmse: 0.102367\tvalid_1's rmse: 0.117091\n",
            "[4400]\ttraining's rmse: 0.10174\tvalid_1's rmse: 0.117007\n",
            "[4600]\ttraining's rmse: 0.101075\tvalid_1's rmse: 0.116947\n",
            "[4800]\ttraining's rmse: 0.100424\tvalid_1's rmse: 0.116864\n",
            "Early stopping, best iteration is:\n",
            "[4779]\ttraining's rmse: 0.100483\tvalid_1's rmse: 0.116859\n",
            "validation score : 0.11668607164785365\n"
          ],
          "name": "stdout"
        }
      ]
    },
    {
      "cell_type": "code",
      "metadata": {
        "id": "XFMC2kjNzILN"
      },
      "source": [
        "sub=test[[\"ID\"]].copy()\n",
        "sub[\"target\"]=test_pred"
      ],
      "execution_count": 43,
      "outputs": []
    },
    {
      "cell_type": "code",
      "metadata": {
        "id": "NLPkTNKGzILN"
      },
      "source": [
        "sub.to_csv(\"Sub_Starter.csv\",index=False)"
      ],
      "execution_count": 44,
      "outputs": []
    },
    {
      "cell_type": "code",
      "metadata": {
        "id": "aePxyhDUzILN"
      },
      "source": [
        ""
      ],
      "execution_count": 42,
      "outputs": []
    }
  ]
}